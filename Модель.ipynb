{
 "cells": [
  {
   "cell_type": "code",
   "execution_count": 1,
   "id": "5fdeaa41",
   "metadata": {},
   "outputs": [],
   "source": [
    "import pandas as pd \n",
    "import numpy as np\n",
    "import scipy.stats as sts\n",
    "\n",
    "import matplotlib.pyplot as plt\n",
    "import seaborn as sns\n",
    "\n",
    "from sklearn.model_selection import train_test_split, GridSearchCV\n",
    "from sklearn.linear_model import LinearRegression, Ridge\n",
    "from sklearn.pipeline import Pipeline\n",
    "from sklearn.preprocessing import StandardScaler, PolynomialFeatures\n",
    "from sklearn.metrics import mean_absolute_error, mean_squared_error, mean_absolute_percentage_error\n",
    "\n",
    "import warnings\n",
    "warnings.filterwarnings(\"ignore\")"
   ]
  },
  {
   "cell_type": "code",
   "execution_count": 2,
   "id": "b2fc45b4",
   "metadata": {
    "scrolled": false
   },
   "outputs": [
    {
     "data": {
      "text/html": [
       "<div>\n",
       "<style scoped>\n",
       "    .dataframe tbody tr th:only-of-type {\n",
       "        vertical-align: middle;\n",
       "    }\n",
       "\n",
       "    .dataframe tbody tr th {\n",
       "        vertical-align: top;\n",
       "    }\n",
       "\n",
       "    .dataframe thead th {\n",
       "        text-align: right;\n",
       "    }\n",
       "</style>\n",
       "<table border=\"1\" class=\"dataframe\">\n",
       "  <thead>\n",
       "    <tr style=\"text-align: right;\">\n",
       "      <th></th>\n",
       "      <th>Доллар США</th>\n",
       "      <th>Евро</th>\n",
       "      <th>Фунт стерлингов</th>\n",
       "      <th>Китайский юань</th>\n",
       "      <th>Японская йена</th>\n",
       "      <th>value_RUB</th>\n",
       "      <th>value_USD</th>\n",
       "      <th>value_EUR</th>\n",
       "      <th>value_GBP</th>\n",
       "      <th>value_JPY</th>\n",
       "      <th>value_CNY</th>\n",
       "    </tr>\n",
       "    <tr>\n",
       "      <th>Дата</th>\n",
       "      <th></th>\n",
       "      <th></th>\n",
       "      <th></th>\n",
       "      <th></th>\n",
       "      <th></th>\n",
       "      <th></th>\n",
       "      <th></th>\n",
       "      <th></th>\n",
       "      <th></th>\n",
       "      <th></th>\n",
       "      <th></th>\n",
       "    </tr>\n",
       "  </thead>\n",
       "  <tbody>\n",
       "    <tr>\n",
       "      <th>2023-12-05</th>\n",
       "      <td>75.8846</td>\n",
       "      <td>82.8877</td>\n",
       "      <td>95.7512</td>\n",
       "      <td>10.9119</td>\n",
       "      <td>56.5881</td>\n",
       "      <td>7.5</td>\n",
       "      <td>5.06143</td>\n",
       "      <td>-0.64957</td>\n",
       "      <td>4.6877</td>\n",
       "      <td>-0.06005</td>\n",
       "      <td>1.320</td>\n",
       "    </tr>\n",
       "    <tr>\n",
       "      <th>2023-11-05</th>\n",
       "      <td>76.6929</td>\n",
       "      <td>84.1498</td>\n",
       "      <td>96.7251</td>\n",
       "      <td>11.0390</td>\n",
       "      <td>56.7465</td>\n",
       "      <td>7.5</td>\n",
       "      <td>5.06171</td>\n",
       "      <td>-0.64957</td>\n",
       "      <td>4.6810</td>\n",
       "      <td>-0.06005</td>\n",
       "      <td>1.102</td>\n",
       "    </tr>\n",
       "    <tr>\n",
       "      <th>2023-05-05</th>\n",
       "      <td>78.6139</td>\n",
       "      <td>86.9986</td>\n",
       "      <td>98.5268</td>\n",
       "      <td>11.3488</td>\n",
       "      <td>57.1654</td>\n",
       "      <td>7.5</td>\n",
       "      <td>5.05986</td>\n",
       "      <td>-0.64957</td>\n",
       "      <td>4.6336</td>\n",
       "      <td>-0.06005</td>\n",
       "      <td>1.234</td>\n",
       "    </tr>\n",
       "  </tbody>\n",
       "</table>\n",
       "</div>"
      ],
      "text/plain": [
       "            Доллар США     Евро  Фунт стерлингов  Китайский юань  \\\n",
       "Дата                                                               \n",
       "2023-12-05     75.8846  82.8877          95.7512         10.9119   \n",
       "2023-11-05     76.6929  84.1498          96.7251         11.0390   \n",
       "2023-05-05     78.6139  86.9986          98.5268         11.3488   \n",
       "\n",
       "            Японская йена  value_RUB  value_USD  value_EUR  value_GBP  \\\n",
       "Дата                                                                    \n",
       "2023-12-05        56.5881        7.5    5.06143   -0.64957     4.6877   \n",
       "2023-11-05        56.7465        7.5    5.06171   -0.64957     4.6810   \n",
       "2023-05-05        57.1654        7.5    5.05986   -0.64957     4.6336   \n",
       "\n",
       "            value_JPY  value_CNY  \n",
       "Дата                              \n",
       "2023-12-05   -0.06005      1.320  \n",
       "2023-11-05   -0.06005      1.102  \n",
       "2023-05-05   -0.06005      1.234  "
      ]
     },
     "execution_count": 2,
     "metadata": {},
     "output_type": "execute_result"
    }
   ],
   "source": [
    "df = pd.read_csv('new_data.csv')\n",
    "df = df.set_index('Дата')\n",
    "df.head(3)"
   ]
  },
  {
   "cell_type": "markdown",
   "id": "a4789822",
   "metadata": {},
   "source": [
    "В качестве задачи на машинное обучение мы решили научиться предсказывать курс доллара США, т. к. веса показали, что в него чаще всего выгодно инвестировать. Делать это мы будем на основе курсов евро, фунта стерлингов, китайского юаня и японской йены, т. к. во многом курсы валют взаимосвязаны (как минимум из-за глобальных экономических условий, политических событий и др. факторов). "
   ]
  },
  {
   "cell_type": "code",
   "execution_count": 3,
   "id": "4d269eb9",
   "metadata": {
    "scrolled": false
   },
   "outputs": [
    {
     "data": {
      "text/html": [
       "<div>\n",
       "<style scoped>\n",
       "    .dataframe tbody tr th:only-of-type {\n",
       "        vertical-align: middle;\n",
       "    }\n",
       "\n",
       "    .dataframe tbody tr th {\n",
       "        vertical-align: top;\n",
       "    }\n",
       "\n",
       "    .dataframe thead th {\n",
       "        text-align: right;\n",
       "    }\n",
       "</style>\n",
       "<table border=\"1\" class=\"dataframe\">\n",
       "  <thead>\n",
       "    <tr style=\"text-align: right;\">\n",
       "      <th></th>\n",
       "      <th>Доллар США</th>\n",
       "      <th>Евро</th>\n",
       "      <th>Фунт стерлингов</th>\n",
       "      <th>Китайский юань</th>\n",
       "      <th>Японская йена</th>\n",
       "    </tr>\n",
       "    <tr>\n",
       "      <th>Дата</th>\n",
       "      <th></th>\n",
       "      <th></th>\n",
       "      <th></th>\n",
       "      <th></th>\n",
       "      <th></th>\n",
       "    </tr>\n",
       "  </thead>\n",
       "  <tbody>\n",
       "    <tr>\n",
       "      <th>2023-12-05</th>\n",
       "      <td>75.8846</td>\n",
       "      <td>82.8877</td>\n",
       "      <td>95.7512</td>\n",
       "      <td>10.9119</td>\n",
       "      <td>56.5881</td>\n",
       "    </tr>\n",
       "    <tr>\n",
       "      <th>2023-11-05</th>\n",
       "      <td>76.6929</td>\n",
       "      <td>84.1498</td>\n",
       "      <td>96.7251</td>\n",
       "      <td>11.0390</td>\n",
       "      <td>56.7465</td>\n",
       "    </tr>\n",
       "    <tr>\n",
       "      <th>2023-05-05</th>\n",
       "      <td>78.6139</td>\n",
       "      <td>86.9986</td>\n",
       "      <td>98.5268</td>\n",
       "      <td>11.3488</td>\n",
       "      <td>57.1654</td>\n",
       "    </tr>\n",
       "  </tbody>\n",
       "</table>\n",
       "</div>"
      ],
      "text/plain": [
       "            Доллар США     Евро  Фунт стерлингов  Китайский юань  \\\n",
       "Дата                                                               \n",
       "2023-12-05     75.8846  82.8877          95.7512         10.9119   \n",
       "2023-11-05     76.6929  84.1498          96.7251         11.0390   \n",
       "2023-05-05     78.6139  86.9986          98.5268         11.3488   \n",
       "\n",
       "            Японская йена  \n",
       "Дата                       \n",
       "2023-12-05        56.5881  \n",
       "2023-11-05        56.7465  \n",
       "2023-05-05        57.1654  "
      ]
     },
     "execution_count": 3,
     "metadata": {},
     "output_type": "execute_result"
    }
   ],
   "source": [
    "df_ml = df.iloc[:, :5]\n",
    "df_ml.head(3)"
   ]
  },
  {
   "cell_type": "code",
   "execution_count": 4,
   "id": "7fcf2a53",
   "metadata": {},
   "outputs": [
    {
     "data": {
      "text/plain": [
       "((1261, 5), (316, 5))"
      ]
     },
     "execution_count": 4,
     "metadata": {},
     "output_type": "execute_result"
    }
   ],
   "source": [
    "# поделим выборку на тестовую и обучающую \n",
    "df_train, df_test = train_test_split(df_ml, test_size = 0.2, random_state = 1983)\n",
    "df_train.shape, df_test.shape"
   ]
  },
  {
   "cell_type": "code",
   "execution_count": 5,
   "id": "edf4fe17",
   "metadata": {},
   "outputs": [],
   "source": [
    "# получим признаки и целевые метки обучающей и тестовой выборки\n",
    "y_train = df_train['Доллар США']\n",
    "y_test = df_test['Доллар США'] \n",
    "X_train = df_train.drop('Доллар США', axis = 1)\n",
    "X_test = df_test.drop('Доллар США', axis = 1)\n",
    "\n",
    "# наши столбцы\n",
    "num_features = X_train.dtypes[df_train.dtypes != 'object'].index.values"
   ]
  },
  {
   "cell_type": "code",
   "execution_count": 6,
   "id": "042f4797",
   "metadata": {},
   "outputs": [
    {
     "data": {
      "image/png": "[encoded data removed]",
      "text/plain": [
       "<Figure size 432x288 with 1 Axes>"
      ]
     },
     "metadata": {
      "needs_background": "light"
     },
     "output_type": "display_data"
    }
   ],
   "source": [
    "# распределение логарифма курса доллара США - близко к нормальному\n",
    "sns.histplot(df_train['Доллар США'].apply(lambda w: np.log(w + 1)));"
   ]
  },
  {
   "cell_type": "code",
   "execution_count": 7,
   "id": "8ed6989a",
   "metadata": {},
   "outputs": [
    {
     "data": {
      "text/plain": [
       "(5.911159493670885, 69.4573535136709, 0.08610769032228481)"
      ]
     },
     "execution_count": 7,
     "metadata": {},
     "output_type": "execute_result"
    }
   ],
   "source": [
    "# будем предсказывать курс доллара США наивным способом - по медиане на тренировочной выборке\n",
    "y_pred_naive = y_train.median() * np.ones_like(y_test)\n",
    "\n",
    "# получившиеся метрики\n",
    "MAE_naive = mean_absolute_error(y_test, y_pred_naive)\n",
    "MSE_naive = mean_squared_error(y_test, y_pred_naive)\n",
    "MAPE_naive = mean_absolute_percentage_error(y_test, y_pred_naive)\n",
    "\n",
    "MAE_naive, MSE_naive, MAPE_naive"
   ]
  },
  {
   "cell_type": "markdown",
   "id": "8914cfd9",
   "metadata": {},
   "source": [
    "MAE означает «Средняя абсолютная ошибка» и представляет собой показатель, используемый для измерения средней абсолютной разницы между прогнозируемыми значениями и фактическими значениями.\n",
    "\n",
    "MAPE означает «Средняя абсолютная ошибка в процентах» и представляет собой показатель, используемый для измерения процентной разницы между прогнозируемыми значениями и фактическими значениями.\n",
    "\n",
    "MSE расшифровывается как «Mean Squared Error» и представляет собой показатель, используемый для измерения среднеквадратичной разницы между прогнозируемыми значениями и фактическими значениями."
   ]
  },
  {
   "cell_type": "code",
   "execution_count": 8,
   "id": "b711fe0a",
   "metadata": {},
   "outputs": [
    {
     "data": {
      "text/plain": [
       "(2.1187526499203413, 6.947712143014699, 0.031924178011880425)"
      ]
     },
     "execution_count": 8,
     "metadata": {},
     "output_type": "execute_result"
    }
   ],
   "source": [
    "# построим предсказательную модель - модель линейной регрессии\n",
    "model_reg = LinearRegression()\n",
    "model_reg.fit(X_train[num_features], y_train)\n",
    "y_pred = model_reg.predict(X_test[num_features])\n",
    "\n",
    "# посчитаем метрики по новым предсказаниям\n",
    "MAE = mean_absolute_error(y_test, y_pred)\n",
    "MSE = mean_squared_error(y_test, y_pred)\n",
    "MAPE = mean_absolute_percentage_error(y_test, y_pred)\n",
    "\n",
    "MAE, MSE, MAPE"
   ]
  },
  {
   "cell_type": "markdown",
   "id": "3bb0a9a3",
   "metadata": {},
   "source": [
    "**Вывод:** Видим, что после построения предсказательной модели метрики качества сильно улучшились. Так, MAPE сократилась примерно с 8,6% до 3,2%, что является очень хорошим показателем. Тем не менее попробуем оптимизировать модель с помощью подбора гиперпараметров и функции GridSearchCV."
   ]
  },
  {
   "cell_type": "code",
   "execution_count": 9,
   "id": "85df5aad",
   "metadata": {},
   "outputs": [
    {
     "name": "stdout",
     "output_type": "stream",
     "text": [
      "Best alpha = 127.4275\n"
     ]
    }
   ],
   "source": [
    "alphas = np.logspace(-2, 4, 20)\n",
    "\n",
    "linear_pipe = Pipeline([\n",
    "    ('scaler', StandardScaler()),\n",
    "    ('poly', PolynomialFeatures()),\n",
    "    ('linear_model', Ridge()) \n",
    "])\n",
    "\n",
    "searcher = GridSearchCV(\n",
    "    linear_pipe, [{'linear_model__alpha': alphas}],\n",
    "    scoring = \"neg_root_mean_squared_error\", \n",
    "    cv = 10, n_jobs = -1\n",
    ")\n",
    "\n",
    "searcher.fit(X_train[num_features], y_train)\n",
    "best_alpha = searcher.best_params_[\"linear_model__alpha\"]\n",
    "print(\"Best alpha = %.4f\" % best_alpha)"
   ]
  },
  {
   "cell_type": "code",
   "execution_count": 10,
   "id": "78ea1d77",
   "metadata": {},
   "outputs": [
    {
     "data": {
      "image/png": "[encoded data removed]",
      "text/plain": [
       "<Figure size 432x288 with 1 Axes>"
      ]
     },
     "metadata": {
      "needs_background": "light"
     },
     "output_type": "display_data"
    }
   ],
   "source": [
    "plt.plot(alphas, -searcher.cv_results_[\"mean_test_score\"])\n",
    "plt.xscale(\"log\")\n",
    "plt.xlabel(\"alpha\")\n",
    "plt.ylabel(\"CV score\");"
   ]
  },
  {
   "cell_type": "code",
   "execution_count": 11,
   "id": "bcd9bbdf",
   "metadata": {},
   "outputs": [
    {
     "name": "stdout",
     "output_type": "stream",
     "text": [
      "Train MAPE: 0.027717083300573306\n",
      "Test MAPE: 0.027115758606984546\n"
     ]
    }
   ],
   "source": [
    "y_pred = searcher.predict(X_test[num_features])\n",
    "y_pred_train = searcher.predict(X_train[num_features])\n",
    "\n",
    "print('Train MAPE:', mean_absolute_percentage_error(y_train, y_pred_train))\n",
    "print('Test MAPE:', mean_absolute_percentage_error(y_test, y_pred))"
   ]
  },
  {
   "cell_type": "markdown",
   "id": "c4045ddf",
   "metadata": {},
   "source": [
    "**Вывод:** Таким образом, после оптимизации модели мы получили ещё более точные результаты - средняя абсолютная ошибка в процентах сократилась примерно до 2,7% на тестовой выборке! Получившуюся предсказательную модель можно использовать для построения оптимальной инвестиционной стратегии в дальнейшем."
   ]
  }
 ],
 "metadata": {
  "kernelspec": {
   "display_name": "Python 3 (ipykernel)",
   "language": "python",
   "name": "python3"
  },
  "language_info": {
   "codemirror_mode": {
    "name": "ipython",
    "version": 3
   },
   "file_extension": ".py",
   "mimetype": "text/x-python",
   "name": "python",
   "nbconvert_exporter": "python",
   "pygments_lexer": "ipython3",
   "version": "3.9.7"
  }
 },
 "nbformat": 4,
 "nbformat_minor": 5
}
